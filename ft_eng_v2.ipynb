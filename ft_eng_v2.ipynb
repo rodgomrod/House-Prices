{
 "cells": [
  {
   "cell_type": "code",
   "execution_count": 1,
   "metadata": {
    "collapsed": true
   },
   "outputs": [],
   "source": [
    "import pandas as pd\n",
    "import numpy as np\n",
    "import time\n",
    "import matplotlib\n",
    "import matplotlib.pyplot as plt\n",
    "import matplotlib as mpl\n",
    "import seaborn as sns\n",
    "from mpl_toolkits.mplot3d import Axes3D\n",
    "import missingno as msno\n",
    "from wordcloud import WordCloud, STOPWORDS\n",
    "from sklearn.preprocessing import LabelEncoder\n",
    "from sklearn.preprocessing import StandardScaler\n",
    "%matplotlib inline"
   ]
  },
  {
   "cell_type": "code",
   "execution_count": 2,
   "metadata": {
    "collapsed": true
   },
   "outputs": [],
   "source": [
    "train = pd.read_csv(\"data/numeric_train.csv\", encoding='utf-8', sep=',')\n",
    "\n",
    "test = pd.read_csv(\"data/numeric_test.csv\", encoding='utf-8', sep=',')"
   ]
  },
  {
   "cell_type": "code",
   "execution_count": 3,
   "metadata": {},
   "outputs": [
    {
     "data": {
      "text/html": [
       "<div>\n",
       "<style>\n",
       "    .dataframe thead tr:only-child th {\n",
       "        text-align: right;\n",
       "    }\n",
       "\n",
       "    .dataframe thead th {\n",
       "        text-align: left;\n",
       "    }\n",
       "\n",
       "    .dataframe tbody tr th {\n",
       "        vertical-align: top;\n",
       "    }\n",
       "</style>\n",
       "<table border=\"1\" class=\"dataframe\">\n",
       "  <thead>\n",
       "    <tr style=\"text-align: right;\">\n",
       "      <th></th>\n",
       "      <th>1stFlrSF</th>\n",
       "      <th>2ndFlrSF</th>\n",
       "      <th>3SsnPorch</th>\n",
       "      <th>BedroomAbvGr</th>\n",
       "      <th>BsmtFinSF1</th>\n",
       "      <th>BsmtFinSF2</th>\n",
       "      <th>BsmtFullBath</th>\n",
       "      <th>BsmtHalfBath</th>\n",
       "      <th>BsmtUnfSF</th>\n",
       "      <th>EnclosedPorch</th>\n",
       "      <th>...</th>\n",
       "      <th>ConLD</th>\n",
       "      <th>ConLI</th>\n",
       "      <th>ConLw</th>\n",
       "      <th>New</th>\n",
       "      <th>Oth</th>\n",
       "      <th>WD</th>\n",
       "      <th>Grvl.1</th>\n",
       "      <th>Pave.1</th>\n",
       "      <th>AllPub</th>\n",
       "      <th>NoSeWa</th>\n",
       "    </tr>\n",
       "  </thead>\n",
       "  <tbody>\n",
       "    <tr>\n",
       "      <th>0</th>\n",
       "      <td>6.753438</td>\n",
       "      <td>1.207792</td>\n",
       "      <td>-0.103474</td>\n",
       "      <td>3</td>\n",
       "      <td>0.583291</td>\n",
       "      <td>-0.293462</td>\n",
       "      <td>1.0</td>\n",
       "      <td>-0.250083</td>\n",
       "      <td>-0.934330</td>\n",
       "      <td>-0.359550</td>\n",
       "      <td>...</td>\n",
       "      <td>0</td>\n",
       "      <td>0</td>\n",
       "      <td>0</td>\n",
       "      <td>0</td>\n",
       "      <td>0</td>\n",
       "      <td>1</td>\n",
       "      <td>0</td>\n",
       "      <td>1</td>\n",
       "      <td>1</td>\n",
       "      <td>0</td>\n",
       "    </tr>\n",
       "    <tr>\n",
       "      <th>1</th>\n",
       "      <td>7.141245</td>\n",
       "      <td>-0.785090</td>\n",
       "      <td>-0.103474</td>\n",
       "      <td>3</td>\n",
       "      <td>1.180982</td>\n",
       "      <td>-0.293462</td>\n",
       "      <td>0.0</td>\n",
       "      <td>3.816908</td>\n",
       "      <td>-0.629436</td>\n",
       "      <td>-0.359550</td>\n",
       "      <td>...</td>\n",
       "      <td>0</td>\n",
       "      <td>0</td>\n",
       "      <td>0</td>\n",
       "      <td>0</td>\n",
       "      <td>0</td>\n",
       "      <td>1</td>\n",
       "      <td>0</td>\n",
       "      <td>1</td>\n",
       "      <td>1</td>\n",
       "      <td>0</td>\n",
       "    </tr>\n",
       "    <tr>\n",
       "      <th>2</th>\n",
       "      <td>6.825460</td>\n",
       "      <td>1.235795</td>\n",
       "      <td>-0.103474</td>\n",
       "      <td>3</td>\n",
       "      <td>0.099864</td>\n",
       "      <td>-0.293462</td>\n",
       "      <td>1.0</td>\n",
       "      <td>-0.250083</td>\n",
       "      <td>-0.288137</td>\n",
       "      <td>-0.359550</td>\n",
       "      <td>...</td>\n",
       "      <td>0</td>\n",
       "      <td>0</td>\n",
       "      <td>0</td>\n",
       "      <td>0</td>\n",
       "      <td>0</td>\n",
       "      <td>1</td>\n",
       "      <td>0</td>\n",
       "      <td>1</td>\n",
       "      <td>1</td>\n",
       "      <td>0</td>\n",
       "    </tr>\n",
       "    <tr>\n",
       "      <th>3</th>\n",
       "      <td>6.869014</td>\n",
       "      <td>0.979101</td>\n",
       "      <td>-0.103474</td>\n",
       "      <td>3</td>\n",
       "      <td>-0.493432</td>\n",
       "      <td>-0.293462</td>\n",
       "      <td>1.0</td>\n",
       "      <td>-0.250083</td>\n",
       "      <td>-0.046952</td>\n",
       "      <td>3.875374</td>\n",
       "      <td>...</td>\n",
       "      <td>0</td>\n",
       "      <td>0</td>\n",
       "      <td>0</td>\n",
       "      <td>0</td>\n",
       "      <td>0</td>\n",
       "      <td>1</td>\n",
       "      <td>0</td>\n",
       "      <td>1</td>\n",
       "      <td>1</td>\n",
       "      <td>0</td>\n",
       "    </tr>\n",
       "    <tr>\n",
       "      <th>4</th>\n",
       "      <td>7.044033</td>\n",
       "      <td>1.672176</td>\n",
       "      <td>-0.103474</td>\n",
       "      <td>4</td>\n",
       "      <td>0.471224</td>\n",
       "      <td>-0.293462</td>\n",
       "      <td>1.0</td>\n",
       "      <td>-0.250083</td>\n",
       "      <td>-0.160718</td>\n",
       "      <td>-0.359550</td>\n",
       "      <td>...</td>\n",
       "      <td>0</td>\n",
       "      <td>0</td>\n",
       "      <td>0</td>\n",
       "      <td>0</td>\n",
       "      <td>0</td>\n",
       "      <td>1</td>\n",
       "      <td>0</td>\n",
       "      <td>1</td>\n",
       "      <td>1</td>\n",
       "      <td>0</td>\n",
       "    </tr>\n",
       "  </tbody>\n",
       "</table>\n",
       "<p>5 rows × 304 columns</p>\n",
       "</div>"
      ],
      "text/plain": [
       "   1stFlrSF  2ndFlrSF  3SsnPorch  BedroomAbvGr  BsmtFinSF1  BsmtFinSF2  \\\n",
       "0  6.753438  1.207792  -0.103474             3    0.583291   -0.293462   \n",
       "1  7.141245 -0.785090  -0.103474             3    1.180982   -0.293462   \n",
       "2  6.825460  1.235795  -0.103474             3    0.099864   -0.293462   \n",
       "3  6.869014  0.979101  -0.103474             3   -0.493432   -0.293462   \n",
       "4  7.044033  1.672176  -0.103474             4    0.471224   -0.293462   \n",
       "\n",
       "   BsmtFullBath  BsmtHalfBath  BsmtUnfSF  EnclosedPorch   ...    ConLD  ConLI  \\\n",
       "0           1.0     -0.250083  -0.934330      -0.359550   ...        0      0   \n",
       "1           0.0      3.816908  -0.629436      -0.359550   ...        0      0   \n",
       "2           1.0     -0.250083  -0.288137      -0.359550   ...        0      0   \n",
       "3           1.0     -0.250083  -0.046952       3.875374   ...        0      0   \n",
       "4           1.0     -0.250083  -0.160718      -0.359550   ...        0      0   \n",
       "\n",
       "   ConLw  New  Oth  WD  Grvl.1  Pave.1  AllPub  NoSeWa  \n",
       "0      0    0    0   1       0       1       1       0  \n",
       "1      0    0    0   1       0       1       1       0  \n",
       "2      0    0    0   1       0       1       1       0  \n",
       "3      0    0    0   1       0       1       1       0  \n",
       "4      0    0    0   1       0       1       1       0  \n",
       "\n",
       "[5 rows x 304 columns]"
      ]
     },
     "execution_count": 3,
     "metadata": {},
     "output_type": "execute_result"
    }
   ],
   "source": [
    "train.head()"
   ]
  },
  {
   "cell_type": "code",
   "execution_count": 4,
   "metadata": {},
   "outputs": [
    {
     "data": {
      "text/html": [
       "<div>\n",
       "<style>\n",
       "    .dataframe thead tr:only-child th {\n",
       "        text-align: right;\n",
       "    }\n",
       "\n",
       "    .dataframe thead th {\n",
       "        text-align: left;\n",
       "    }\n",
       "\n",
       "    .dataframe tbody tr th {\n",
       "        vertical-align: top;\n",
       "    }\n",
       "</style>\n",
       "<table border=\"1\" class=\"dataframe\">\n",
       "  <thead>\n",
       "    <tr style=\"text-align: right;\">\n",
       "      <th></th>\n",
       "      <th>1stFlrSF</th>\n",
       "      <th>2ndFlrSF</th>\n",
       "      <th>3SsnPorch</th>\n",
       "      <th>BedroomAbvGr</th>\n",
       "      <th>BsmtFinSF1</th>\n",
       "      <th>BsmtFinSF2</th>\n",
       "      <th>BsmtFullBath</th>\n",
       "      <th>BsmtHalfBath</th>\n",
       "      <th>BsmtUnfSF</th>\n",
       "      <th>EnclosedPorch</th>\n",
       "      <th>...</th>\n",
       "      <th>ConLD</th>\n",
       "      <th>ConLI</th>\n",
       "      <th>ConLw</th>\n",
       "      <th>New</th>\n",
       "      <th>Oth</th>\n",
       "      <th>WD</th>\n",
       "      <th>Grvl.1</th>\n",
       "      <th>Pave.1</th>\n",
       "      <th>AllPub</th>\n",
       "      <th>NoSeWa</th>\n",
       "    </tr>\n",
       "  </thead>\n",
       "  <tbody>\n",
       "    <tr>\n",
       "      <th>0</th>\n",
       "      <td>6.799056</td>\n",
       "      <td>-0.785090</td>\n",
       "      <td>-0.103474</td>\n",
       "      <td>2</td>\n",
       "      <td>0.060311</td>\n",
       "      <td>0.556785</td>\n",
       "      <td>0.0</td>\n",
       "      <td>-0.250083</td>\n",
       "      <td>-0.661290</td>\n",
       "      <td>-0.35955</td>\n",
       "      <td>...</td>\n",
       "      <td>0</td>\n",
       "      <td>0</td>\n",
       "      <td>0</td>\n",
       "      <td>0</td>\n",
       "      <td>0</td>\n",
       "      <td>1</td>\n",
       "      <td>0</td>\n",
       "      <td>1</td>\n",
       "      <td>1</td>\n",
       "      <td>0</td>\n",
       "    </tr>\n",
       "    <tr>\n",
       "      <th>1</th>\n",
       "      <td>7.192934</td>\n",
       "      <td>-0.785090</td>\n",
       "      <td>-0.103474</td>\n",
       "      <td>3</td>\n",
       "      <td>1.060126</td>\n",
       "      <td>-0.293462</td>\n",
       "      <td>0.0</td>\n",
       "      <td>-0.250083</td>\n",
       "      <td>-0.351846</td>\n",
       "      <td>-0.35955</td>\n",
       "      <td>...</td>\n",
       "      <td>0</td>\n",
       "      <td>0</td>\n",
       "      <td>0</td>\n",
       "      <td>0</td>\n",
       "      <td>0</td>\n",
       "      <td>1</td>\n",
       "      <td>0</td>\n",
       "      <td>1</td>\n",
       "      <td>1</td>\n",
       "      <td>0</td>\n",
       "    </tr>\n",
       "    <tr>\n",
       "      <th>2</th>\n",
       "      <td>6.834109</td>\n",
       "      <td>0.850753</td>\n",
       "      <td>-0.103474</td>\n",
       "      <td>3</td>\n",
       "      <td>0.770070</td>\n",
       "      <td>-0.293462</td>\n",
       "      <td>0.0</td>\n",
       "      <td>-0.250083</td>\n",
       "      <td>-0.963909</td>\n",
       "      <td>-0.35955</td>\n",
       "      <td>...</td>\n",
       "      <td>0</td>\n",
       "      <td>0</td>\n",
       "      <td>0</td>\n",
       "      <td>0</td>\n",
       "      <td>0</td>\n",
       "      <td>1</td>\n",
       "      <td>0</td>\n",
       "      <td>1</td>\n",
       "      <td>1</td>\n",
       "      <td>0</td>\n",
       "    </tr>\n",
       "    <tr>\n",
       "      <th>3</th>\n",
       "      <td>6.831954</td>\n",
       "      <td>0.797081</td>\n",
       "      <td>-0.103474</td>\n",
       "      <td>3</td>\n",
       "      <td>0.354762</td>\n",
       "      <td>-0.293462</td>\n",
       "      <td>0.0</td>\n",
       "      <td>-0.250083</td>\n",
       "      <td>-0.538423</td>\n",
       "      <td>-0.35955</td>\n",
       "      <td>...</td>\n",
       "      <td>0</td>\n",
       "      <td>0</td>\n",
       "      <td>0</td>\n",
       "      <td>0</td>\n",
       "      <td>0</td>\n",
       "      <td>1</td>\n",
       "      <td>0</td>\n",
       "      <td>1</td>\n",
       "      <td>1</td>\n",
       "      <td>0</td>\n",
       "    </tr>\n",
       "    <tr>\n",
       "      <th>4</th>\n",
       "      <td>7.155396</td>\n",
       "      <td>-0.785090</td>\n",
       "      <td>-0.103474</td>\n",
       "      <td>2</td>\n",
       "      <td>-0.390154</td>\n",
       "      <td>-0.293462</td>\n",
       "      <td>0.0</td>\n",
       "      <td>-0.250083</td>\n",
       "      <td>1.038380</td>\n",
       "      <td>-0.35955</td>\n",
       "      <td>...</td>\n",
       "      <td>0</td>\n",
       "      <td>0</td>\n",
       "      <td>0</td>\n",
       "      <td>0</td>\n",
       "      <td>0</td>\n",
       "      <td>1</td>\n",
       "      <td>0</td>\n",
       "      <td>1</td>\n",
       "      <td>1</td>\n",
       "      <td>0</td>\n",
       "    </tr>\n",
       "  </tbody>\n",
       "</table>\n",
       "<p>5 rows × 304 columns</p>\n",
       "</div>"
      ],
      "text/plain": [
       "   1stFlrSF  2ndFlrSF  3SsnPorch  BedroomAbvGr  BsmtFinSF1  BsmtFinSF2  \\\n",
       "0  6.799056 -0.785090  -0.103474             2    0.060311    0.556785   \n",
       "1  7.192934 -0.785090  -0.103474             3    1.060126   -0.293462   \n",
       "2  6.834109  0.850753  -0.103474             3    0.770070   -0.293462   \n",
       "3  6.831954  0.797081  -0.103474             3    0.354762   -0.293462   \n",
       "4  7.155396 -0.785090  -0.103474             2   -0.390154   -0.293462   \n",
       "\n",
       "   BsmtFullBath  BsmtHalfBath  BsmtUnfSF  EnclosedPorch   ...    ConLD  ConLI  \\\n",
       "0           0.0     -0.250083  -0.661290       -0.35955   ...        0      0   \n",
       "1           0.0     -0.250083  -0.351846       -0.35955   ...        0      0   \n",
       "2           0.0     -0.250083  -0.963909       -0.35955   ...        0      0   \n",
       "3           0.0     -0.250083  -0.538423       -0.35955   ...        0      0   \n",
       "4           0.0     -0.250083   1.038380       -0.35955   ...        0      0   \n",
       "\n",
       "   ConLw  New  Oth  WD  Grvl.1  Pave.1  AllPub  NoSeWa  \n",
       "0      0    0    0   1       0       1       1       0  \n",
       "1      0    0    0   1       0       1       1       0  \n",
       "2      0    0    0   1       0       1       1       0  \n",
       "3      0    0    0   1       0       1       1       0  \n",
       "4      0    0    0   1       0       1       1       0  \n",
       "\n",
       "[5 rows x 304 columns]"
      ]
     },
     "execution_count": 4,
     "metadata": {},
     "output_type": "execute_result"
    }
   ],
   "source": [
    "test.head()"
   ]
  },
  {
   "cell_type": "code",
   "execution_count": 5,
   "metadata": {
    "collapsed": true
   },
   "outputs": [],
   "source": [
    "all_df = pd.concat((train, test), axis=0)"
   ]
  },
  {
   "cell_type": "code",
   "execution_count": 6,
   "metadata": {},
   "outputs": [
    {
     "data": {
      "text/html": [
       "<div>\n",
       "<style>\n",
       "    .dataframe thead tr:only-child th {\n",
       "        text-align: right;\n",
       "    }\n",
       "\n",
       "    .dataframe thead th {\n",
       "        text-align: left;\n",
       "    }\n",
       "\n",
       "    .dataframe tbody tr th {\n",
       "        vertical-align: top;\n",
       "    }\n",
       "</style>\n",
       "<table border=\"1\" class=\"dataframe\">\n",
       "  <thead>\n",
       "    <tr style=\"text-align: right;\">\n",
       "      <th></th>\n",
       "      <th>1stFlrSF</th>\n",
       "      <th>2ndFlrSF</th>\n",
       "      <th>3SsnPorch</th>\n",
       "      <th>BedroomAbvGr</th>\n",
       "      <th>BsmtFinSF1</th>\n",
       "      <th>BsmtFinSF2</th>\n",
       "      <th>BsmtFullBath</th>\n",
       "      <th>BsmtHalfBath</th>\n",
       "      <th>BsmtUnfSF</th>\n",
       "      <th>EnclosedPorch</th>\n",
       "      <th>...</th>\n",
       "      <th>ConLD</th>\n",
       "      <th>ConLI</th>\n",
       "      <th>ConLw</th>\n",
       "      <th>New</th>\n",
       "      <th>Oth</th>\n",
       "      <th>WD</th>\n",
       "      <th>Grvl.1</th>\n",
       "      <th>Pave.1</th>\n",
       "      <th>AllPub</th>\n",
       "      <th>NoSeWa</th>\n",
       "    </tr>\n",
       "  </thead>\n",
       "  <tbody>\n",
       "    <tr>\n",
       "      <th>0</th>\n",
       "      <td>6.753438</td>\n",
       "      <td>1.207792</td>\n",
       "      <td>-0.103474</td>\n",
       "      <td>3</td>\n",
       "      <td>0.583291</td>\n",
       "      <td>-0.293462</td>\n",
       "      <td>1.0</td>\n",
       "      <td>-0.250083</td>\n",
       "      <td>-0.934330</td>\n",
       "      <td>-0.359550</td>\n",
       "      <td>...</td>\n",
       "      <td>0</td>\n",
       "      <td>0</td>\n",
       "      <td>0</td>\n",
       "      <td>0</td>\n",
       "      <td>0</td>\n",
       "      <td>1</td>\n",
       "      <td>0</td>\n",
       "      <td>1</td>\n",
       "      <td>1</td>\n",
       "      <td>0</td>\n",
       "    </tr>\n",
       "    <tr>\n",
       "      <th>1</th>\n",
       "      <td>7.141245</td>\n",
       "      <td>-0.785090</td>\n",
       "      <td>-0.103474</td>\n",
       "      <td>3</td>\n",
       "      <td>1.180982</td>\n",
       "      <td>-0.293462</td>\n",
       "      <td>0.0</td>\n",
       "      <td>3.816908</td>\n",
       "      <td>-0.629436</td>\n",
       "      <td>-0.359550</td>\n",
       "      <td>...</td>\n",
       "      <td>0</td>\n",
       "      <td>0</td>\n",
       "      <td>0</td>\n",
       "      <td>0</td>\n",
       "      <td>0</td>\n",
       "      <td>1</td>\n",
       "      <td>0</td>\n",
       "      <td>1</td>\n",
       "      <td>1</td>\n",
       "      <td>0</td>\n",
       "    </tr>\n",
       "    <tr>\n",
       "      <th>2</th>\n",
       "      <td>6.825460</td>\n",
       "      <td>1.235795</td>\n",
       "      <td>-0.103474</td>\n",
       "      <td>3</td>\n",
       "      <td>0.099864</td>\n",
       "      <td>-0.293462</td>\n",
       "      <td>1.0</td>\n",
       "      <td>-0.250083</td>\n",
       "      <td>-0.288137</td>\n",
       "      <td>-0.359550</td>\n",
       "      <td>...</td>\n",
       "      <td>0</td>\n",
       "      <td>0</td>\n",
       "      <td>0</td>\n",
       "      <td>0</td>\n",
       "      <td>0</td>\n",
       "      <td>1</td>\n",
       "      <td>0</td>\n",
       "      <td>1</td>\n",
       "      <td>1</td>\n",
       "      <td>0</td>\n",
       "    </tr>\n",
       "    <tr>\n",
       "      <th>3</th>\n",
       "      <td>6.869014</td>\n",
       "      <td>0.979101</td>\n",
       "      <td>-0.103474</td>\n",
       "      <td>3</td>\n",
       "      <td>-0.493432</td>\n",
       "      <td>-0.293462</td>\n",
       "      <td>1.0</td>\n",
       "      <td>-0.250083</td>\n",
       "      <td>-0.046952</td>\n",
       "      <td>3.875374</td>\n",
       "      <td>...</td>\n",
       "      <td>0</td>\n",
       "      <td>0</td>\n",
       "      <td>0</td>\n",
       "      <td>0</td>\n",
       "      <td>0</td>\n",
       "      <td>1</td>\n",
       "      <td>0</td>\n",
       "      <td>1</td>\n",
       "      <td>1</td>\n",
       "      <td>0</td>\n",
       "    </tr>\n",
       "    <tr>\n",
       "      <th>4</th>\n",
       "      <td>7.044033</td>\n",
       "      <td>1.672176</td>\n",
       "      <td>-0.103474</td>\n",
       "      <td>4</td>\n",
       "      <td>0.471224</td>\n",
       "      <td>-0.293462</td>\n",
       "      <td>1.0</td>\n",
       "      <td>-0.250083</td>\n",
       "      <td>-0.160718</td>\n",
       "      <td>-0.359550</td>\n",
       "      <td>...</td>\n",
       "      <td>0</td>\n",
       "      <td>0</td>\n",
       "      <td>0</td>\n",
       "      <td>0</td>\n",
       "      <td>0</td>\n",
       "      <td>1</td>\n",
       "      <td>0</td>\n",
       "      <td>1</td>\n",
       "      <td>1</td>\n",
       "      <td>0</td>\n",
       "    </tr>\n",
       "  </tbody>\n",
       "</table>\n",
       "<p>5 rows × 304 columns</p>\n",
       "</div>"
      ],
      "text/plain": [
       "   1stFlrSF  2ndFlrSF  3SsnPorch  BedroomAbvGr  BsmtFinSF1  BsmtFinSF2  \\\n",
       "0  6.753438  1.207792  -0.103474             3    0.583291   -0.293462   \n",
       "1  7.141245 -0.785090  -0.103474             3    1.180982   -0.293462   \n",
       "2  6.825460  1.235795  -0.103474             3    0.099864   -0.293462   \n",
       "3  6.869014  0.979101  -0.103474             3   -0.493432   -0.293462   \n",
       "4  7.044033  1.672176  -0.103474             4    0.471224   -0.293462   \n",
       "\n",
       "   BsmtFullBath  BsmtHalfBath  BsmtUnfSF  EnclosedPorch   ...    ConLD  ConLI  \\\n",
       "0           1.0     -0.250083  -0.934330      -0.359550   ...        0      0   \n",
       "1           0.0      3.816908  -0.629436      -0.359550   ...        0      0   \n",
       "2           1.0     -0.250083  -0.288137      -0.359550   ...        0      0   \n",
       "3           1.0     -0.250083  -0.046952       3.875374   ...        0      0   \n",
       "4           1.0     -0.250083  -0.160718      -0.359550   ...        0      0   \n",
       "\n",
       "   ConLw  New  Oth  WD  Grvl.1  Pave.1  AllPub  NoSeWa  \n",
       "0      0    0    0   1       0       1       1       0  \n",
       "1      0    0    0   1       0       1       1       0  \n",
       "2      0    0    0   1       0       1       1       0  \n",
       "3      0    0    0   1       0       1       1       0  \n",
       "4      0    0    0   1       0       1       1       0  \n",
       "\n",
       "[5 rows x 304 columns]"
      ]
     },
     "execution_count": 6,
     "metadata": {},
     "output_type": "execute_result"
    }
   ],
   "source": [
    "all_df.head()"
   ]
  },
  {
   "cell_type": "code",
   "execution_count": 13,
   "metadata": {
    "scrolled": true
   },
   "outputs": [
    {
     "data": {
      "text/plain": [
       "0      NaN\n",
       "1      NaN\n",
       "2      NaN\n",
       "3      NaN\n",
       "4      NaN\n",
       "5      NaN\n",
       "6      NaN\n",
       "7      NaN\n",
       "8      NaN\n",
       "9      NaN\n",
       "10     NaN\n",
       "11     NaN\n",
       "12     NaN\n",
       "13     NaN\n",
       "14     NaN\n",
       "15     NaN\n",
       "16     NaN\n",
       "17     NaN\n",
       "18     NaN\n",
       "19     NaN\n",
       "20     NaN\n",
       "21     NaN\n",
       "22     NaN\n",
       "23     NaN\n",
       "24     NaN\n",
       "25     NaN\n",
       "26     NaN\n",
       "27     NaN\n",
       "28     NaN\n",
       "29     NaN\n",
       "        ..\n",
       "1429   NaN\n",
       "1430   NaN\n",
       "1431   NaN\n",
       "1432   NaN\n",
       "1433   NaN\n",
       "1434   NaN\n",
       "1435   NaN\n",
       "1436   NaN\n",
       "1437   NaN\n",
       "1438   NaN\n",
       "1439   NaN\n",
       "1440   NaN\n",
       "1441   NaN\n",
       "1442   NaN\n",
       "1443   NaN\n",
       "1444   NaN\n",
       "1445   NaN\n",
       "1446   NaN\n",
       "1447   NaN\n",
       "1448   NaN\n",
       "1449   NaN\n",
       "1450   NaN\n",
       "1451   NaN\n",
       "1452   NaN\n",
       "1453   NaN\n",
       "1454   NaN\n",
       "1455   NaN\n",
       "1456   NaN\n",
       "1457   NaN\n",
       "1458   NaN\n",
       "Name: SalePrice, Length: 1459, dtype: float64"
      ]
     },
     "execution_count": 13,
     "metadata": {},
     "output_type": "execute_result"
    }
   ],
   "source": [
    "all_df['SalePrice'].iloc[train.shape[0]:]"
   ]
  },
  {
   "cell_type": "code",
   "execution_count": 12,
   "metadata": {},
   "outputs": [
    {
     "data": {
      "text/plain": [
       "1452"
      ]
     },
     "execution_count": 12,
     "metadata": {},
     "output_type": "execute_result"
    }
   ],
   "source": [
    "len(train)"
   ]
  },
  {
   "cell_type": "code",
   "execution_count": 14,
   "metadata": {},
   "outputs": [
    {
     "data": {
      "text/plain": [
       "1459"
      ]
     },
     "execution_count": 14,
     "metadata": {},
     "output_type": "execute_result"
    }
   ],
   "source": [
    "len(test)"
   ]
  },
  {
   "cell_type": "code",
   "execution_count": 15,
   "metadata": {
    "collapsed": true
   },
   "outputs": [],
   "source": [
    "#para separar all_df en train / test: train = all_df.iloc[:train.shape[0],:]; test = all_df.iloc[train.shape[0]:,:]; "
   ]
  },
  {
   "cell_type": "markdown",
   "metadata": {},
   "source": [
    "Variable 'IsRemod', si ha sido remodelada o no"
   ]
  },
  {
   "cell_type": "code",
   "execution_count": 30,
   "metadata": {
    "scrolled": true
   },
   "outputs": [
    {
     "name": "stderr",
     "output_type": "stream",
     "text": [
      "C:\\Users\\Rodrigo\\Anaconda3\\lib\\site-packages\\pandas\\core\\indexing.py:179: SettingWithCopyWarning: \n",
      "A value is trying to be set on a copy of a slice from a DataFrame\n",
      "\n",
      "See the caveats in the documentation: http://pandas.pydata.org/pandas-docs/stable/indexing.html#indexing-view-versus-copy\n",
      "  self._setitem_with_indexer(indexer, value)\n"
     ]
    }
   ],
   "source": [
    "all_df['IsRemod'] = 0\n",
    "for i in range(len(all_df)):\n",
    "    if all_df['YearBuilt'].iloc[i] != all_df['YearRemodAdd'].iloc[i]:\n",
    "        all_df['IsRemod'].iloc[i] = 1"
   ]
  },
  {
   "cell_type": "markdown",
   "metadata": {},
   "source": [
    "Variable 'RemodOld', años desde la reforma hasta el 2018"
   ]
  },
  {
   "cell_type": "code",
   "execution_count": 32,
   "metadata": {},
   "outputs": [],
   "source": [
    "all_df['RemodOld'] = 2018 - all_df['YearRemodAdd']"
   ]
  },
  {
   "cell_type": "markdown",
   "metadata": {},
   "source": [
    "Variable 'RelOld', Antiguedad relativa en años"
   ]
  },
  {
   "cell_type": "code",
   "execution_count": 39,
   "metadata": {},
   "outputs": [],
   "source": [
    "all_df['RelOld'] = all_df['YearBuilt'] - min(all_df['YearBuilt'])"
   ]
  },
  {
   "cell_type": "markdown",
   "metadata": {},
   "source": [
    "Variable 'RelRoomSize', Zona habitable (menos cuartos de baño) partido por numero de habitaciones"
   ]
  },
  {
   "cell_type": "code",
   "execution_count": 42,
   "metadata": {
    "collapsed": true
   },
   "outputs": [],
   "source": [
    "all_df['RelRoomSize'] = all_df['GrLivArea']/all_df['TotRmsAbvGrd']"
   ]
  },
  {
   "cell_type": "code",
   "execution_count": 45,
   "metadata": {},
   "outputs": [
    {
     "data": {
      "text/plain": [
       "(2911, 308)"
      ]
     },
     "execution_count": 45,
     "metadata": {},
     "output_type": "execute_result"
    }
   ],
   "source": [
    "all_df.shape"
   ]
  },
  {
   "cell_type": "code",
   "execution_count": null,
   "metadata": {
    "collapsed": true
   },
   "outputs": [],
   "source": []
  },
  {
   "cell_type": "code",
   "execution_count": null,
   "metadata": {
    "collapsed": true
   },
   "outputs": [],
   "source": []
  },
  {
   "cell_type": "code",
   "execution_count": null,
   "metadata": {
    "collapsed": true
   },
   "outputs": [],
   "source": []
  },
  {
   "cell_type": "code",
   "execution_count": null,
   "metadata": {
    "collapsed": true
   },
   "outputs": [],
   "source": []
  },
  {
   "cell_type": "code",
   "execution_count": null,
   "metadata": {
    "collapsed": true
   },
   "outputs": [],
   "source": []
  },
  {
   "cell_type": "code",
   "execution_count": null,
   "metadata": {
    "collapsed": true
   },
   "outputs": [],
   "source": []
  },
  {
   "cell_type": "code",
   "execution_count": 134,
   "metadata": {
    "collapsed": true
   },
   "outputs": [],
   "source": [
    "train.to_csv('data/train_ft_eng.csv', sep=',', index=False)\n",
    "test.to_csv('data/test_ft_eng.csv', sep=',', index=False)"
   ]
  },
  {
   "cell_type": "code",
   "execution_count": null,
   "metadata": {
    "collapsed": true
   },
   "outputs": [],
   "source": []
  }
 ],
 "metadata": {
  "kernelspec": {
   "display_name": "Python 3",
   "language": "python",
   "name": "python3"
  },
  "language_info": {
   "codemirror_mode": {
    "name": "ipython",
    "version": 3
   },
   "file_extension": ".py",
   "mimetype": "text/x-python",
   "name": "python",
   "nbconvert_exporter": "python",
   "pygments_lexer": "ipython3",
   "version": "3.5.3"
  }
 },
 "nbformat": 4,
 "nbformat_minor": 2
}
