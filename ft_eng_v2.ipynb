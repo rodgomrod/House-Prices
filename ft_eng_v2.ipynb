{
 "cells": [
  {
   "cell_type": "code",
<<<<<<< HEAD
   "execution_count": 22,
   "metadata": {},
   "outputs": [],
   "source": [
    "from sklearn.feature_extraction.text import TfidfVectorizer\n",
=======
   "execution_count": 1,
   "metadata": {
    "collapsed": true
   },
   "outputs": [],
   "source": [
>>>>>>> 92865a6fd6f1e8c9816fd00faaf722525d70275d
    "import pandas as pd\n",
    "import numpy as np\n",
    "import time\n",
    "import matplotlib\n",
    "import matplotlib.pyplot as plt\n",
    "import matplotlib as mpl\n",
    "import seaborn as sns\n",
<<<<<<< HEAD
    "from sklearn.feature_extraction.text import CountVectorizer\n",
    "\n",
    "import warnings\n",
    "warnings.filterwarnings(\"ignore\",category=DeprecationWarning)\n",
    "\n",
    "RANDOM_STATE = 1992"
=======
    "from mpl_toolkits.mplot3d import Axes3D\n",
    "import missingno as msno\n",
    "from wordcloud import WordCloud, STOPWORDS\n",
    "from sklearn.preprocessing import LabelEncoder\n",
    "from sklearn.preprocessing import StandardScaler\n",
    "%matplotlib inline"
>>>>>>> 92865a6fd6f1e8c9816fd00faaf722525d70275d
   ]
  },
  {
   "cell_type": "code",
   "execution_count": 2,
<<<<<<< HEAD
   "metadata": {},
   "outputs": [],
   "source": [
    "train = pd.read_csv(\"data/train_ft_sel_30.csv\", encoding='utf-8', sep=',')\n",
    "\n",
    "test = pd.read_csv(\"data/test_ft_sel_30.csv\", encoding='utf-8', sep=',')"
=======
   "metadata": {
    "collapsed": true
   },
   "outputs": [],
   "source": [
    "train = pd.read_csv(\"data/numeric_train.csv\", encoding='utf-8', sep=',')\n",
    "\n",
    "test = pd.read_csv(\"data/numeric_test.csv\", encoding='utf-8', sep=',')"
>>>>>>> 92865a6fd6f1e8c9816fd00faaf722525d70275d
   ]
  },
  {
   "cell_type": "code",
   "execution_count": 3,
   "metadata": {},
   "outputs": [
    {
     "data": {
      "text/html": [
       "<div>\n",
<<<<<<< HEAD
=======
       "<style>\n",
       "    .dataframe thead tr:only-child th {\n",
       "        text-align: right;\n",
       "    }\n",
       "\n",
       "    .dataframe thead th {\n",
       "        text-align: left;\n",
       "    }\n",
       "\n",
       "    .dataframe tbody tr th {\n",
       "        vertical-align: top;\n",
       "    }\n",
       "</style>\n",
>>>>>>> 92865a6fd6f1e8c9816fd00faaf722525d70275d
       "<table border=\"1\" class=\"dataframe\">\n",
       "  <thead>\n",
       "    <tr style=\"text-align: right;\">\n",
       "      <th></th>\n",
<<<<<<< HEAD
       "      <th>OverallQual</th>\n",
       "      <th>floor</th>\n",
       "      <th>LotArea</th>\n",
       "      <th>GarageArea</th>\n",
       "      <th>BsmtFinSF1</th>\n",
       "      <th>1stFlrSF</th>\n",
       "      <th>TotalBsmtSF</th>\n",
       "      <th>GrLivArea</th>\n",
       "      <th>OpenPorchSF</th>\n",
       "      <th>BsmtUnfSF</th>\n",
       "      <th>...</th>\n",
       "      <th>2ndFlrSF</th>\n",
       "      <th>SaleCondition</th>\n",
       "      <th>kn_128</th>\n",
       "      <th>WoodDeckSF</th>\n",
       "      <th>MSZoning</th>\n",
       "      <th>Quality</th>\n",
       "      <th>ScreenPorch</th>\n",
       "      <th>kn_32</th>\n",
       "      <th>Id</th>\n",
       "      <th>SalePrice</th>\n",
=======
       "      <th>1stFlrSF</th>\n",
       "      <th>2ndFlrSF</th>\n",
       "      <th>3SsnPorch</th>\n",
       "      <th>BedroomAbvGr</th>\n",
       "      <th>BsmtFinSF1</th>\n",
       "      <th>BsmtFinSF2</th>\n",
       "      <th>BsmtFullBath</th>\n",
       "      <th>BsmtHalfBath</th>\n",
       "      <th>BsmtUnfSF</th>\n",
       "      <th>EnclosedPorch</th>\n",
       "      <th>...</th>\n",
       "      <th>ConLD</th>\n",
       "      <th>ConLI</th>\n",
       "      <th>ConLw</th>\n",
       "      <th>New</th>\n",
       "      <th>Oth</th>\n",
       "      <th>WD</th>\n",
       "      <th>Grvl.1</th>\n",
       "      <th>Pave.1</th>\n",
       "      <th>AllPub</th>\n",
       "      <th>NoSeWa</th>\n",
>>>>>>> 92865a6fd6f1e8c9816fd00faaf722525d70275d
       "    </tr>\n",
       "  </thead>\n",
       "  <tbody>\n",
       "    <tr>\n",
       "      <th>0</th>\n",
<<<<<<< HEAD
       "      <td>7</td>\n",
       "      <td>0.368719</td>\n",
       "      <td>-0.205996</td>\n",
       "      <td>0.352525</td>\n",
       "      <td>0.579345</td>\n",
       "      <td>-0.793908</td>\n",
       "      <td>-0.457576</td>\n",
       "      <td>0.372562</td>\n",
       "      <td>0.220747</td>\n",
       "      <td>-0.943764</td>\n",
       "      <td>...</td>\n",
       "      <td>1.162628</td>\n",
       "      <td>4</td>\n",
       "      <td>34</td>\n",
       "      <td>-0.752932</td>\n",
       "      <td>3</td>\n",
       "      <td>0.0000</td>\n",
       "      <td>-0.271106</td>\n",
       "      <td>5</td>\n",
       "      <td>1</td>\n",
       "      <td>5.319106</td>\n",
       "    </tr>\n",
       "    <tr>\n",
       "      <th>1</th>\n",
       "      <td>6</td>\n",
       "      <td>-0.533735</td>\n",
       "      <td>-0.090876</td>\n",
       "      <td>-0.058502</td>\n",
       "      <td>1.176868</td>\n",
       "      <td>0.260994</td>\n",
       "      <td>0.469865</td>\n",
       "      <td>-0.479767</td>\n",
       "      <td>-0.702973</td>\n",
       "      <td>-0.640635</td>\n",
       "      <td>...</td>\n",
       "      <td>-0.794728</td>\n",
       "      <td>4</td>\n",
       "      <td>102</td>\n",
       "      <td>1.623585</td>\n",
       "      <td>3</td>\n",
       "      <td>0.0000</td>\n",
       "      <td>-0.271106</td>\n",
       "      <td>28</td>\n",
       "      <td>2</td>\n",
       "      <td>5.258877</td>\n",
       "    </tr>\n",
       "    <tr>\n",
       "      <th>2</th>\n",
       "      <td>7</td>\n",
       "      <td>0.562513</td>\n",
       "      <td>0.074297</td>\n",
       "      <td>0.632770</td>\n",
       "      <td>0.096054</td>\n",
       "      <td>-0.627618</td>\n",
       "      <td>-0.311378</td>\n",
       "      <td>0.517154</td>\n",
       "      <td>-0.066969</td>\n",
       "      <td>-0.301312</td>\n",
       "      <td>...</td>\n",
       "      <td>1.190131</td>\n",
       "      <td>4</td>\n",
       "      <td>34</td>\n",
       "      <td>-0.752932</td>\n",
       "      <td>3</td>\n",
       "      <td>0.0000</td>\n",
       "      <td>-0.271106</td>\n",
       "      <td>5</td>\n",
       "      <td>3</td>\n",
       "      <td>5.349278</td>\n",
       "    </tr>\n",
       "    <tr>\n",
       "      <th>3</th>\n",
       "      <td>7</td>\n",
       "      <td>0.416924</td>\n",
       "      <td>-0.095881</td>\n",
       "      <td>0.791576</td>\n",
       "      <td>-0.497076</td>\n",
       "      <td>-0.521089</td>\n",
       "      <td>-0.686010</td>\n",
       "      <td>0.385880</td>\n",
       "      <td>-0.172970</td>\n",
       "      <td>-0.061524</td>\n",
       "      <td>...</td>\n",
       "      <td>0.938013</td>\n",
       "      <td>0</td>\n",
       "      <td>20</td>\n",
       "      <td>-0.752932</td>\n",
       "      <td>3</td>\n",
       "      <td>0.1008</td>\n",
       "      <td>-0.271106</td>\n",
       "      <td>24</td>\n",
       "      <td>4</td>\n",
       "      <td>5.146128</td>\n",
       "    </tr>\n",
       "    <tr>\n",
       "      <th>4</th>\n",
       "      <td>8</td>\n",
       "      <td>1.575728</td>\n",
       "      <td>0.375612</td>\n",
       "      <td>1.697704</td>\n",
       "      <td>0.467309</td>\n",
       "      <td>-0.043005</td>\n",
       "      <td>0.202598</td>\n",
       "      <td>1.300993</td>\n",
       "      <td>0.569034</td>\n",
       "      <td>-0.174632</td>\n",
       "      <td>...</td>\n",
       "      <td>1.618733</td>\n",
       "      <td>4</td>\n",
       "      <td>85</td>\n",
       "      <td>0.778247</td>\n",
       "      <td>3</td>\n",
       "      <td>0.0000</td>\n",
       "      <td>-0.271106</td>\n",
       "      <td>1</td>\n",
       "      <td>5</td>\n",
       "      <td>5.397940</td>\n",
       "    </tr>\n",
       "  </tbody>\n",
       "</table>\n",
       "<p>5 rows × 32 columns</p>\n",
       "</div>"
      ],
      "text/plain": [
       "   OverallQual     floor   LotArea  GarageArea  BsmtFinSF1  1stFlrSF  \\\n",
       "0            7  0.368719 -0.205996    0.352525    0.579345 -0.793908   \n",
       "1            6 -0.533735 -0.090876   -0.058502    1.176868  0.260994   \n",
       "2            7  0.562513  0.074297    0.632770    0.096054 -0.627618   \n",
       "3            7  0.416924 -0.095881    0.791576   -0.497076 -0.521089   \n",
       "4            8  1.575728  0.375612    1.697704    0.467309 -0.043005   \n",
       "\n",
       "   TotalBsmtSF  GrLivArea  OpenPorchSF  BsmtUnfSF    ...      2ndFlrSF  \\\n",
       "0    -0.457576   0.372562     0.220747  -0.943764    ...      1.162628   \n",
       "1     0.469865  -0.479767    -0.702973  -0.640635    ...     -0.794728   \n",
       "2    -0.311378   0.517154    -0.066969  -0.301312    ...      1.190131   \n",
       "3    -0.686010   0.385880    -0.172970  -0.061524    ...      0.938013   \n",
       "4     0.202598   1.300993     0.569034  -0.174632    ...      1.618733   \n",
       "\n",
       "   SaleCondition  kn_128  WoodDeckSF  MSZoning  Quality  ScreenPorch  kn_32  \\\n",
       "0              4      34   -0.752932         3   0.0000    -0.271106      5   \n",
       "1              4     102    1.623585         3   0.0000    -0.271106     28   \n",
       "2              4      34   -0.752932         3   0.0000    -0.271106      5   \n",
       "3              0      20   -0.752932         3   0.1008    -0.271106     24   \n",
       "4              4      85    0.778247         3   0.0000    -0.271106      1   \n",
       "\n",
       "   Id  SalePrice  \n",
       "0   1   5.319106  \n",
       "1   2   5.258877  \n",
       "2   3   5.349278  \n",
       "3   4   5.146128  \n",
       "4   5   5.397940  \n",
       "\n",
       "[5 rows x 32 columns]"
=======
       "      <td>6.753438</td>\n",
       "      <td>1.207792</td>\n",
       "      <td>-0.103474</td>\n",
       "      <td>3</td>\n",
       "      <td>0.583291</td>\n",
       "      <td>-0.293462</td>\n",
       "      <td>1.0</td>\n",
       "      <td>-0.250083</td>\n",
       "      <td>-0.934330</td>\n",
       "      <td>-0.359550</td>\n",
       "      <td>...</td>\n",
       "      <td>0</td>\n",
       "      <td>0</td>\n",
       "      <td>0</td>\n",
       "      <td>0</td>\n",
       "      <td>0</td>\n",
       "      <td>1</td>\n",
       "      <td>0</td>\n",
       "      <td>1</td>\n",
       "      <td>1</td>\n",
       "      <td>0</td>\n",
       "    </tr>\n",
       "    <tr>\n",
       "      <th>1</th>\n",
       "      <td>7.141245</td>\n",
       "      <td>-0.785090</td>\n",
       "      <td>-0.103474</td>\n",
       "      <td>3</td>\n",
       "      <td>1.180982</td>\n",
       "      <td>-0.293462</td>\n",
       "      <td>0.0</td>\n",
       "      <td>3.816908</td>\n",
       "      <td>-0.629436</td>\n",
       "      <td>-0.359550</td>\n",
       "      <td>...</td>\n",
       "      <td>0</td>\n",
       "      <td>0</td>\n",
       "      <td>0</td>\n",
       "      <td>0</td>\n",
       "      <td>0</td>\n",
       "      <td>1</td>\n",
       "      <td>0</td>\n",
       "      <td>1</td>\n",
       "      <td>1</td>\n",
       "      <td>0</td>\n",
       "    </tr>\n",
       "    <tr>\n",
       "      <th>2</th>\n",
       "      <td>6.825460</td>\n",
       "      <td>1.235795</td>\n",
       "      <td>-0.103474</td>\n",
       "      <td>3</td>\n",
       "      <td>0.099864</td>\n",
       "      <td>-0.293462</td>\n",
       "      <td>1.0</td>\n",
       "      <td>-0.250083</td>\n",
       "      <td>-0.288137</td>\n",
       "      <td>-0.359550</td>\n",
       "      <td>...</td>\n",
       "      <td>0</td>\n",
       "      <td>0</td>\n",
       "      <td>0</td>\n",
       "      <td>0</td>\n",
       "      <td>0</td>\n",
       "      <td>1</td>\n",
       "      <td>0</td>\n",
       "      <td>1</td>\n",
       "      <td>1</td>\n",
       "      <td>0</td>\n",
       "    </tr>\n",
       "    <tr>\n",
       "      <th>3</th>\n",
       "      <td>6.869014</td>\n",
       "      <td>0.979101</td>\n",
       "      <td>-0.103474</td>\n",
       "      <td>3</td>\n",
       "      <td>-0.493432</td>\n",
       "      <td>-0.293462</td>\n",
       "      <td>1.0</td>\n",
       "      <td>-0.250083</td>\n",
       "      <td>-0.046952</td>\n",
       "      <td>3.875374</td>\n",
       "      <td>...</td>\n",
       "      <td>0</td>\n",
       "      <td>0</td>\n",
       "      <td>0</td>\n",
       "      <td>0</td>\n",
       "      <td>0</td>\n",
       "      <td>1</td>\n",
       "      <td>0</td>\n",
       "      <td>1</td>\n",
       "      <td>1</td>\n",
       "      <td>0</td>\n",
       "    </tr>\n",
       "    <tr>\n",
       "      <th>4</th>\n",
       "      <td>7.044033</td>\n",
       "      <td>1.672176</td>\n",
       "      <td>-0.103474</td>\n",
       "      <td>4</td>\n",
       "      <td>0.471224</td>\n",
       "      <td>-0.293462</td>\n",
       "      <td>1.0</td>\n",
       "      <td>-0.250083</td>\n",
       "      <td>-0.160718</td>\n",
       "      <td>-0.359550</td>\n",
       "      <td>...</td>\n",
       "      <td>0</td>\n",
       "      <td>0</td>\n",
       "      <td>0</td>\n",
       "      <td>0</td>\n",
       "      <td>0</td>\n",
       "      <td>1</td>\n",
       "      <td>0</td>\n",
       "      <td>1</td>\n",
       "      <td>1</td>\n",
       "      <td>0</td>\n",
       "    </tr>\n",
       "  </tbody>\n",
       "</table>\n",
       "<p>5 rows × 304 columns</p>\n",
       "</div>"
      ],
      "text/plain": [
       "   1stFlrSF  2ndFlrSF  3SsnPorch  BedroomAbvGr  BsmtFinSF1  BsmtFinSF2  \\\n",
       "0  6.753438  1.207792  -0.103474             3    0.583291   -0.293462   \n",
       "1  7.141245 -0.785090  -0.103474             3    1.180982   -0.293462   \n",
       "2  6.825460  1.235795  -0.103474             3    0.099864   -0.293462   \n",
       "3  6.869014  0.979101  -0.103474             3   -0.493432   -0.293462   \n",
       "4  7.044033  1.672176  -0.103474             4    0.471224   -0.293462   \n",
       "\n",
       "   BsmtFullBath  BsmtHalfBath  BsmtUnfSF  EnclosedPorch   ...    ConLD  ConLI  \\\n",
       "0           1.0     -0.250083  -0.934330      -0.359550   ...        0      0   \n",
       "1           0.0      3.816908  -0.629436      -0.359550   ...        0      0   \n",
       "2           1.0     -0.250083  -0.288137      -0.359550   ...        0      0   \n",
       "3           1.0     -0.250083  -0.046952       3.875374   ...        0      0   \n",
       "4           1.0     -0.250083  -0.160718      -0.359550   ...        0      0   \n",
       "\n",
       "   ConLw  New  Oth  WD  Grvl.1  Pave.1  AllPub  NoSeWa  \n",
       "0      0    0    0   1       0       1       1       0  \n",
       "1      0    0    0   1       0       1       1       0  \n",
       "2      0    0    0   1       0       1       1       0  \n",
       "3      0    0    0   1       0       1       1       0  \n",
       "4      0    0    0   1       0       1       1       0  \n",
       "\n",
       "[5 rows x 304 columns]"
>>>>>>> 92865a6fd6f1e8c9816fd00faaf722525d70275d
      ]
     },
     "execution_count": 3,
     "metadata": {},
     "output_type": "execute_result"
    }
   ],
   "source": [
    "train.head()"
   ]
  },
  {
   "cell_type": "code",
   "execution_count": 4,
   "metadata": {},
   "outputs": [
    {
     "data": {
<<<<<<< HEAD
      "text/plain": [
       "Index(['OverallQual', 'floor', 'LotArea', 'GarageArea', 'BsmtFinSF1',\n",
       "       '1stFlrSF', 'TotalBsmtSF', 'GrLivArea', 'OpenPorchSF', 'BsmtUnfSF',\n",
       "       'YearBuilt', 'LtArea-Frontage', 'OverallCond', 'FullBath',\n",
       "       'LotFrontage', 'GarageYrBlt', 'kn_256', 'YearRemodAdd', 'kn_512',\n",
       "       'MasVnrArea', 'MoSold', 'Neighborhood', '2ndFlrSF', 'SaleCondition',\n",
       "       'kn_128', 'WoodDeckSF', 'MSZoning', 'Quality', 'ScreenPorch', 'kn_32'],\n",
       "      dtype='object')"
      ]
     },
     "execution_count": 4,
     "metadata": {},
     "output_type": "execute_result"
    }
   ],
   "source": [
    "column_list = test.columns[test.columns != 'Id']\n",
    "column_list"
   ]
  },
  {
   "cell_type": "code",
   "execution_count": 5,
   "metadata": {},
   "outputs": [],
   "source": [
    "min_sp = train['SalePrice'].min()\n",
    "max_sp = train['SalePrice'].max()"
   ]
  },
  {
   "cell_type": "code",
   "execution_count": 6,
   "metadata": {},
   "outputs": [],
   "source": [
    "diff = max_sp-min_sp"
   ]
  },
  {
   "cell_type": "code",
   "execution_count": 7,
   "metadata": {},
   "outputs": [
    {
     "data": {
      "text/plain": [
       "5.8779469516291885"
      ]
     },
     "execution_count": 7,
     "metadata": {},
     "output_type": "execute_result"
    }
   ],
   "source": [
    "diff/8*8+min_sp"
   ]
  },
  {
   "cell_type": "code",
   "execution_count": 8,
   "metadata": {
    "scrolled": true
   },
   "outputs": [
    {
     "data": {
      "text/plain": [
       "4.54282542695918"
      ]
     },
     "execution_count": 8,
     "metadata": {},
     "output_type": "execute_result"
    }
   ],
   "source": [
    "min_sp"
   ]
  },
  {
   "cell_type": "code",
   "execution_count": 9,
   "metadata": {},
   "outputs": [],
   "source": [
    "lista = ['class_4', 'class_8', 'class_16', 'class_32']\n",
    "clases = [4, 8, 16, 32]\n",
    "\n",
    "for n in range(len(clases)):\n",
    "    labeles = list()\n",
    "    ranges = list()\n",
    "    m = clases[n]\n",
    "    step = diff/m\n",
    "    for i in range(m):\n",
    "        labeles.append(i)\n",
    "        if i == 0:\n",
    "            ranges.append(0)\n",
    "        else:\n",
    "            ranges.append(min_sp+(step*(i)))\n",
    "    ranges.append(10)\n",
    "    train[lista[n]] = pd.cut(train['SalePrice'], ranges, labels=labeles)"
   ]
  },
  {
   "cell_type": "code",
   "execution_count": 10,
   "metadata": {},
   "outputs": [
    {
     "data": {
      "text/html": [
       "<div>\n",
=======
      "text/html": [
       "<div>\n",
       "<style>\n",
       "    .dataframe thead tr:only-child th {\n",
       "        text-align: right;\n",
       "    }\n",
       "\n",
       "    .dataframe thead th {\n",
       "        text-align: left;\n",
       "    }\n",
       "\n",
       "    .dataframe tbody tr th {\n",
       "        vertical-align: top;\n",
       "    }\n",
       "</style>\n",
>>>>>>> 92865a6fd6f1e8c9816fd00faaf722525d70275d
       "<table border=\"1\" class=\"dataframe\">\n",
       "  <thead>\n",
       "    <tr style=\"text-align: right;\">\n",
       "      <th></th>\n",
<<<<<<< HEAD
       "      <th>class_4</th>\n",
       "      <th>class_8</th>\n",
       "      <th>class_16</th>\n",
       "      <th>class_32</th>\n",
=======
       "      <th>1stFlrSF</th>\n",
       "      <th>2ndFlrSF</th>\n",
       "      <th>3SsnPorch</th>\n",
       "      <th>BedroomAbvGr</th>\n",
       "      <th>BsmtFinSF1</th>\n",
       "      <th>BsmtFinSF2</th>\n",
       "      <th>BsmtFullBath</th>\n",
       "      <th>BsmtHalfBath</th>\n",
       "      <th>BsmtUnfSF</th>\n",
       "      <th>EnclosedPorch</th>\n",
       "      <th>...</th>\n",
       "      <th>ConLD</th>\n",
       "      <th>ConLI</th>\n",
       "      <th>ConLw</th>\n",
       "      <th>New</th>\n",
       "      <th>Oth</th>\n",
       "      <th>WD</th>\n",
       "      <th>Grvl.1</th>\n",
       "      <th>Pave.1</th>\n",
       "      <th>AllPub</th>\n",
       "      <th>NoSeWa</th>\n",
>>>>>>> 92865a6fd6f1e8c9816fd00faaf722525d70275d
       "    </tr>\n",
       "  </thead>\n",
       "  <tbody>\n",
       "    <tr>\n",
       "      <th>0</th>\n",
<<<<<<< HEAD
       "      <td>2</td>\n",
       "      <td>4</td>\n",
       "      <td>9</td>\n",
       "      <td>18</td>\n",
       "    </tr>\n",
       "    <tr>\n",
       "      <th>1</th>\n",
       "      <td>2</td>\n",
       "      <td>4</td>\n",
       "      <td>8</td>\n",
       "      <td>17</td>\n",
       "    </tr>\n",
       "    <tr>\n",
       "      <th>2</th>\n",
       "      <td>2</td>\n",
       "      <td>4</td>\n",
       "      <td>9</td>\n",
       "      <td>19</td>\n",
       "    </tr>\n",
       "    <tr>\n",
       "      <th>3</th>\n",
       "      <td>1</td>\n",
       "      <td>3</td>\n",
       "      <td>7</td>\n",
       "      <td>14</td>\n",
       "    </tr>\n",
       "    <tr>\n",
       "      <th>4</th>\n",
       "      <td>2</td>\n",
       "      <td>5</td>\n",
       "      <td>10</td>\n",
       "      <td>20</td>\n",
       "    </tr>\n",
       "  </tbody>\n",
       "</table>\n",
       "</div>"
      ],
      "text/plain": [
       "  class_4 class_8 class_16 class_32\n",
       "0       2       4        9       18\n",
       "1       2       4        8       17\n",
       "2       2       4        9       19\n",
       "3       1       3        7       14\n",
       "4       2       5       10       20"
      ]
     },
     "execution_count": 10,
=======
       "      <td>6.799056</td>\n",
       "      <td>-0.785090</td>\n",
       "      <td>-0.103474</td>\n",
       "      <td>2</td>\n",
       "      <td>0.060311</td>\n",
       "      <td>0.556785</td>\n",
       "      <td>0.0</td>\n",
       "      <td>-0.250083</td>\n",
       "      <td>-0.661290</td>\n",
       "      <td>-0.35955</td>\n",
       "      <td>...</td>\n",
       "      <td>0</td>\n",
       "      <td>0</td>\n",
       "      <td>0</td>\n",
       "      <td>0</td>\n",
       "      <td>0</td>\n",
       "      <td>1</td>\n",
       "      <td>0</td>\n",
       "      <td>1</td>\n",
       "      <td>1</td>\n",
       "      <td>0</td>\n",
       "    </tr>\n",
       "    <tr>\n",
       "      <th>1</th>\n",
       "      <td>7.192934</td>\n",
       "      <td>-0.785090</td>\n",
       "      <td>-0.103474</td>\n",
       "      <td>3</td>\n",
       "      <td>1.060126</td>\n",
       "      <td>-0.293462</td>\n",
       "      <td>0.0</td>\n",
       "      <td>-0.250083</td>\n",
       "      <td>-0.351846</td>\n",
       "      <td>-0.35955</td>\n",
       "      <td>...</td>\n",
       "      <td>0</td>\n",
       "      <td>0</td>\n",
       "      <td>0</td>\n",
       "      <td>0</td>\n",
       "      <td>0</td>\n",
       "      <td>1</td>\n",
       "      <td>0</td>\n",
       "      <td>1</td>\n",
       "      <td>1</td>\n",
       "      <td>0</td>\n",
       "    </tr>\n",
       "    <tr>\n",
       "      <th>2</th>\n",
       "      <td>6.834109</td>\n",
       "      <td>0.850753</td>\n",
       "      <td>-0.103474</td>\n",
       "      <td>3</td>\n",
       "      <td>0.770070</td>\n",
       "      <td>-0.293462</td>\n",
       "      <td>0.0</td>\n",
       "      <td>-0.250083</td>\n",
       "      <td>-0.963909</td>\n",
       "      <td>-0.35955</td>\n",
       "      <td>...</td>\n",
       "      <td>0</td>\n",
       "      <td>0</td>\n",
       "      <td>0</td>\n",
       "      <td>0</td>\n",
       "      <td>0</td>\n",
       "      <td>1</td>\n",
       "      <td>0</td>\n",
       "      <td>1</td>\n",
       "      <td>1</td>\n",
       "      <td>0</td>\n",
       "    </tr>\n",
       "    <tr>\n",
       "      <th>3</th>\n",
       "      <td>6.831954</td>\n",
       "      <td>0.797081</td>\n",
       "      <td>-0.103474</td>\n",
       "      <td>3</td>\n",
       "      <td>0.354762</td>\n",
       "      <td>-0.293462</td>\n",
       "      <td>0.0</td>\n",
       "      <td>-0.250083</td>\n",
       "      <td>-0.538423</td>\n",
       "      <td>-0.35955</td>\n",
       "      <td>...</td>\n",
       "      <td>0</td>\n",
       "      <td>0</td>\n",
       "      <td>0</td>\n",
       "      <td>0</td>\n",
       "      <td>0</td>\n",
       "      <td>1</td>\n",
       "      <td>0</td>\n",
       "      <td>1</td>\n",
       "      <td>1</td>\n",
       "      <td>0</td>\n",
       "    </tr>\n",
       "    <tr>\n",
       "      <th>4</th>\n",
       "      <td>7.155396</td>\n",
       "      <td>-0.785090</td>\n",
       "      <td>-0.103474</td>\n",
       "      <td>2</td>\n",
       "      <td>-0.390154</td>\n",
       "      <td>-0.293462</td>\n",
       "      <td>0.0</td>\n",
       "      <td>-0.250083</td>\n",
       "      <td>1.038380</td>\n",
       "      <td>-0.35955</td>\n",
       "      <td>...</td>\n",
       "      <td>0</td>\n",
       "      <td>0</td>\n",
       "      <td>0</td>\n",
       "      <td>0</td>\n",
       "      <td>0</td>\n",
       "      <td>1</td>\n",
       "      <td>0</td>\n",
       "      <td>1</td>\n",
       "      <td>1</td>\n",
       "      <td>0</td>\n",
       "    </tr>\n",
       "  </tbody>\n",
       "</table>\n",
       "<p>5 rows × 304 columns</p>\n",
       "</div>"
      ],
      "text/plain": [
       "   1stFlrSF  2ndFlrSF  3SsnPorch  BedroomAbvGr  BsmtFinSF1  BsmtFinSF2  \\\n",
       "0  6.799056 -0.785090  -0.103474             2    0.060311    0.556785   \n",
       "1  7.192934 -0.785090  -0.103474             3    1.060126   -0.293462   \n",
       "2  6.834109  0.850753  -0.103474             3    0.770070   -0.293462   \n",
       "3  6.831954  0.797081  -0.103474             3    0.354762   -0.293462   \n",
       "4  7.155396 -0.785090  -0.103474             2   -0.390154   -0.293462   \n",
       "\n",
       "   BsmtFullBath  BsmtHalfBath  BsmtUnfSF  EnclosedPorch   ...    ConLD  ConLI  \\\n",
       "0           0.0     -0.250083  -0.661290       -0.35955   ...        0      0   \n",
       "1           0.0     -0.250083  -0.351846       -0.35955   ...        0      0   \n",
       "2           0.0     -0.250083  -0.963909       -0.35955   ...        0      0   \n",
       "3           0.0     -0.250083  -0.538423       -0.35955   ...        0      0   \n",
       "4           0.0     -0.250083   1.038380       -0.35955   ...        0      0   \n",
       "\n",
       "   ConLw  New  Oth  WD  Grvl.1  Pave.1  AllPub  NoSeWa  \n",
       "0      0    0    0   1       0       1       1       0  \n",
       "1      0    0    0   1       0       1       1       0  \n",
       "2      0    0    0   1       0       1       1       0  \n",
       "3      0    0    0   1       0       1       1       0  \n",
       "4      0    0    0   1       0       1       1       0  \n",
       "\n",
       "[5 rows x 304 columns]"
      ]
     },
     "execution_count": 4,
>>>>>>> 92865a6fd6f1e8c9816fd00faaf722525d70275d
     "metadata": {},
     "output_type": "execute_result"
    }
   ],
   "source": [
<<<<<<< HEAD
    "train.loc[:,lista].head()"
   ]
  },
  {
   "cell_type": "code",
   "execution_count": null,
   "metadata": {},
   "outputs": [],
   "source": []
  },
  {
   "cell_type": "code",
   "execution_count": 16,
   "metadata": {},
   "outputs": [],
   "source": [
    "from xgboost import XGBClassifier\n",
    "from sklearn.model_selection import train_test_split\n",
    "from sklearn.metrics import f1_score\n",
    "from sklearn.model_selection import GridSearchCV"
=======
    "test.head()"
>>>>>>> 92865a6fd6f1e8c9816fd00faaf722525d70275d
   ]
  },
  {
   "cell_type": "code",
<<<<<<< HEAD
   "execution_count": 12,
   "metadata": {},
   "outputs": [],
   "source": [
    "X_train, X_test, y_train, y_test = train_test_split(train.loc[:,column_list],\n",
    "                                                    list(train['class_4']),\n",
    "                                                    test_size=0.3,\n",
    "                                                    random_state=RANDOM_STATE)"
=======
   "execution_count": 5,
   "metadata": {
    "collapsed": true
   },
   "outputs": [],
   "source": [
    "all_df = pd.concat((train, test), axis=0)"
>>>>>>> 92865a6fd6f1e8c9816fd00faaf722525d70275d
   ]
  },
  {
   "cell_type": "code",
<<<<<<< HEAD
   "execution_count": 24,
   "metadata": {},
   "outputs": [
    {
     "name": "stdout",
     "output_type": "stream",
     "text": [
      "XGBoost class_4 f1_score in train data: 0.8646788990825689\n",
      "XGBoost class_8 f1_score in train data: 0.7155963302752294\n"
     ]
    },
    {
     "name": "stderr",
     "output_type": "stream",
     "text": [
      "/usr/local/lib/python3.5/dist-packages/sklearn/model_selection/_split.py:581: Warning: The least populated class in y has only 1 members, which is too few. The minimum number of groups for any class cannot be less than n_splits=5.\n",
      "  % (min_groups, self.n_splits)), Warning)\n"
     ]
    },
    {
     "name": "stdout",
     "output_type": "stream",
     "text": [
      "XGBoost class_16 f1_score in train data: 0.48394495412844035\n"
     ]
    },
    {
     "name": "stderr",
     "output_type": "stream",
     "text": [
      "/usr/local/lib/python3.5/dist-packages/sklearn/model_selection/_split.py:581: Warning: The least populated class in y has only 1 members, which is too few. The minimum number of groups for any class cannot be less than n_splits=5.\n",
      "  % (min_groups, self.n_splits)), Warning)\n"
     ]
    },
    {
     "name": "stdout",
     "output_type": "stream",
     "text": [
      "XGBoost class_32 f1_score in train data: 0.25688073394495414\n"
     ]
    }
   ],
   "source": [
    "for num in lista:\n",
    "    X_train, X_test, y_train, y_test = train_test_split(train.loc[:,column_list],\n",
    "                                                        list(train[num]),\n",
    "                                                        test_size=0.3,\n",
    "                                                        random_state=RANDOM_STATE)\n",
    "\n",
    "    param_xgb = {'objective': ['multi:softmax'],\n",
    "                 \"learning_rate\": [0.1, 0.3],\n",
    "                 \"max_depth\": [5, 8, 10],\n",
    "                 \"n_estimators\": [300, 400, 600],\n",
    "                 'subsample': [0.6, 0.8, 0.5],\n",
    "                 \"colsample_bytree\": [0.8],\n",
    "                 \"colsample_bylevel\": [0.8]\n",
    "                 }\n",
    "\n",
    "    estimator_xgb = XGBClassifier()\n",
    "    xgboost_model = GridSearchCV(estimator=estimator_xgb,\n",
    "                                 param_grid=param_xgb,\n",
    "                                 n_jobs=-1,\n",
    "                                 cv=5,\n",
    "                                 verbose=0)\n",
    "\n",
    "    xgboost_model.fit(X_train, y_train)\n",
    "    preds = xgboost_model.best_estimator_.predict(X_test)\n",
    "    f1s = f1_score(y_test, preds, average='micro')\n",
    "    print('XGBoost {} f1_score in train data:'.format(num),f1s)\n",
    "    \n",
    "    test[num] = xgboost_model.best_estimator_.predict(test.loc[:,column_list]) "
   ]
  },
  {
   "cell_type": "code",
   "execution_count": 21,
   "metadata": {},
   "outputs": [
    {
     "name": "stdout",
     "output_type": "stream",
     "text": [
      "XGBoost f1_score: 0.8646788990825689\n"
     ]
    }
   ],
   "source": [
    "f1s = f1_score(y_test, preds, average='micro')\n",
    "print('XGBoost f1_score:',f1s)"
   ]
  },
  {
   "cell_type": "code",
   "execution_count": 29,
=======
   "execution_count": 6,
>>>>>>> 92865a6fd6f1e8c9816fd00faaf722525d70275d
   "metadata": {},
   "outputs": [
    {
     "data": {
      "text/html": [
       "<div>\n",
<<<<<<< HEAD
=======
       "<style>\n",
       "    .dataframe thead tr:only-child th {\n",
       "        text-align: right;\n",
       "    }\n",
       "\n",
       "    .dataframe thead th {\n",
       "        text-align: left;\n",
       "    }\n",
       "\n",
       "    .dataframe tbody tr th {\n",
       "        vertical-align: top;\n",
       "    }\n",
       "</style>\n",
>>>>>>> 92865a6fd6f1e8c9816fd00faaf722525d70275d
       "<table border=\"1\" class=\"dataframe\">\n",
       "  <thead>\n",
       "    <tr style=\"text-align: right;\">\n",
       "      <th></th>\n",
<<<<<<< HEAD
       "      <th>OverallQual</th>\n",
       "      <th>floor</th>\n",
       "      <th>LotArea</th>\n",
       "      <th>GarageArea</th>\n",
       "      <th>BsmtFinSF1</th>\n",
       "      <th>1stFlrSF</th>\n",
       "      <th>TotalBsmtSF</th>\n",
       "      <th>GrLivArea</th>\n",
       "      <th>OpenPorchSF</th>\n",
       "      <th>BsmtUnfSF</th>\n",
       "      <th>...</th>\n",
       "      <th>MoSold</th>\n",
       "      <th>Neighborhood</th>\n",
       "      <th>2ndFlrSF</th>\n",
       "      <th>SaleCondition</th>\n",
       "      <th>kn_128</th>\n",
       "      <th>WoodDeckSF</th>\n",
       "      <th>MSZoning</th>\n",
       "      <th>Quality</th>\n",
       "      <th>ScreenPorch</th>\n",
       "      <th>kn_32</th>\n",
=======
       "      <th>1stFlrSF</th>\n",
       "      <th>2ndFlrSF</th>\n",
       "      <th>3SsnPorch</th>\n",
       "      <th>BedroomAbvGr</th>\n",
       "      <th>BsmtFinSF1</th>\n",
       "      <th>BsmtFinSF2</th>\n",
       "      <th>BsmtFullBath</th>\n",
       "      <th>BsmtHalfBath</th>\n",
       "      <th>BsmtUnfSF</th>\n",
       "      <th>EnclosedPorch</th>\n",
       "      <th>...</th>\n",
       "      <th>ConLD</th>\n",
       "      <th>ConLI</th>\n",
       "      <th>ConLw</th>\n",
       "      <th>New</th>\n",
       "      <th>Oth</th>\n",
       "      <th>WD</th>\n",
       "      <th>Grvl.1</th>\n",
       "      <th>Pave.1</th>\n",
       "      <th>AllPub</th>\n",
       "      <th>NoSeWa</th>\n",
>>>>>>> 92865a6fd6f1e8c9816fd00faaf722525d70275d
       "    </tr>\n",
       "  </thead>\n",
       "  <tbody>\n",
       "    <tr>\n",
       "      <th>0</th>\n",
<<<<<<< HEAD
       "      <td>5</td>\n",
       "      <td>-1.429815</td>\n",
       "      <td>0.363929</td>\n",
       "      <td>1.185921</td>\n",
       "      <td>0.063428</td>\n",
       "      <td>-0.654561</td>\n",
       "      <td>-0.370716</td>\n",
       "      <td>-1.215588</td>\n",
       "      <td>-0.701628</td>\n",
       "      <td>-0.650461</td>\n",
       "      <td>...</td>\n",
       "      <td>-0.038281</td>\n",
       "      <td>12</td>\n",
       "      <td>-0.775254</td>\n",
       "      <td>4</td>\n",
       "      <td>89</td>\n",
       "      <td>0.366678</td>\n",
       "      <td>2</td>\n",
       "      <td>0.207360</td>\n",
       "      <td>1.818960</td>\n",
       "      <td>2</td>\n",
       "    </tr>\n",
       "    <tr>\n",
       "      <th>1</th>\n",
       "      <td>6</td>\n",
       "      <td>-0.341955</td>\n",
       "      <td>0.897861</td>\n",
       "      <td>-0.741235</td>\n",
       "      <td>1.063511</td>\n",
       "      <td>0.433298</td>\n",
       "      <td>0.639230</td>\n",
       "      <td>-0.323539</td>\n",
       "      <td>-0.178826</td>\n",
       "      <td>-0.339225</td>\n",
       "      <td>...</td>\n",
       "      <td>-0.038281</td>\n",
       "      <td>12</td>\n",
       "      <td>-0.775254</td>\n",
       "      <td>4</td>\n",
       "      <td>72</td>\n",
       "      <td>2.347867</td>\n",
       "      <td>3</td>\n",
       "      <td>0.165888</td>\n",
       "      <td>-0.301543</td>\n",
       "      <td>2</td>\n",
       "    </tr>\n",
       "    <tr>\n",
       "      <th>2</th>\n",
       "      <td>5</td>\n",
       "      <td>0.317779</td>\n",
       "      <td>0.809646</td>\n",
       "      <td>0.042537</td>\n",
       "      <td>0.773377</td>\n",
       "      <td>-0.574165</td>\n",
       "      <td>-0.266784</td>\n",
       "      <td>0.294508</td>\n",
       "      <td>-0.207871</td>\n",
       "      <td>-0.954831</td>\n",
       "      <td>...</td>\n",
       "      <td>-1.140614</td>\n",
       "      <td>8</td>\n",
       "      <td>0.891944</td>\n",
       "      <td>4</td>\n",
       "      <td>90</td>\n",
       "      <td>0.930495</td>\n",
       "      <td>3</td>\n",
       "      <td>0.072000</td>\n",
       "      <td>-0.301543</td>\n",
       "      <td>5</td>\n",
       "    </tr>\n",
       "    <tr>\n",
       "      <th>3</th>\n",
       "      <td>6</td>\n",
       "      <td>0.258053</td>\n",
       "      <td>0.032064</td>\n",
       "      <td>-0.012788</td>\n",
       "      <td>0.357958</td>\n",
       "      <td>-0.579190</td>\n",
       "      <td>-0.271303</td>\n",
       "      <td>0.243004</td>\n",
       "      <td>-0.178826</td>\n",
       "      <td>-0.526882</td>\n",
       "      <td>...</td>\n",
       "      <td>-0.038281</td>\n",
       "      <td>8</td>\n",
       "      <td>0.837243</td>\n",
       "      <td>4</td>\n",
       "      <td>90</td>\n",
       "      <td>2.089451</td>\n",
       "      <td>3</td>\n",
       "      <td>0.000000</td>\n",
       "      <td>-0.301543</td>\n",
       "      <td>5</td>\n",
       "    </tr>\n",
       "    <tr>\n",
       "      <th>4</th>\n",
       "      <td>8</td>\n",
       "      <td>-0.465062</td>\n",
       "      <td>-0.971808</td>\n",
       "      <td>0.153187</td>\n",
       "      <td>-0.387160</td>\n",
       "      <td>0.310192</td>\n",
       "      <td>0.528520</td>\n",
       "      <td>-0.424487</td>\n",
       "      <td>0.489198</td>\n",
       "      <td>1.059048</td>\n",
       "      <td>...</td>\n",
       "      <td>-1.875504</td>\n",
       "      <td>22</td>\n",
       "      <td>-0.775254</td>\n",
       "      <td>4</td>\n",
       "      <td>29</td>\n",
       "      <td>-0.729632</td>\n",
       "      <td>3</td>\n",
       "      <td>0.000000</td>\n",
       "      <td>2.243060</td>\n",
       "      <td>3</td>\n",
       "    </tr>\n",
       "  </tbody>\n",
       "</table>\n",
       "<p>5 rows × 30 columns</p>\n",
       "</div>"
      ],
      "text/plain": [
       "   OverallQual     floor   LotArea  GarageArea  BsmtFinSF1  1stFlrSF  \\\n",
       "0            5 -1.429815  0.363929    1.185921    0.063428 -0.654561   \n",
       "1            6 -0.341955  0.897861   -0.741235    1.063511  0.433298   \n",
       "2            5  0.317779  0.809646    0.042537    0.773377 -0.574165   \n",
       "3            6  0.258053  0.032064   -0.012788    0.357958 -0.579190   \n",
       "4            8 -0.465062 -0.971808    0.153187   -0.387160  0.310192   \n",
       "\n",
       "   TotalBsmtSF  GrLivArea  OpenPorchSF  BsmtUnfSF  ...      MoSold  \\\n",
       "0    -0.370716  -1.215588    -0.701628  -0.650461  ...   -0.038281   \n",
       "1     0.639230  -0.323539    -0.178826  -0.339225  ...   -0.038281   \n",
       "2    -0.266784   0.294508    -0.207871  -0.954831  ...   -1.140614   \n",
       "3    -0.271303   0.243004    -0.178826  -0.526882  ...   -0.038281   \n",
       "4     0.528520  -0.424487     0.489198   1.059048  ...   -1.875504   \n",
       "\n",
       "   Neighborhood  2ndFlrSF  SaleCondition  kn_128  WoodDeckSF  MSZoning  \\\n",
       "0            12 -0.775254              4      89    0.366678         2   \n",
       "1            12 -0.775254              4      72    2.347867         3   \n",
       "2             8  0.891944              4      90    0.930495         3   \n",
       "3             8  0.837243              4      90    2.089451         3   \n",
       "4            22 -0.775254              4      29   -0.729632         3   \n",
       "\n",
       "    Quality  ScreenPorch  kn_32  \n",
       "0  0.207360     1.818960      2  \n",
       "1  0.165888    -0.301543      2  \n",
       "2  0.072000    -0.301543      5  \n",
       "3  0.000000    -0.301543      5  \n",
       "4  0.000000     2.243060      3  \n",
       "\n",
       "[5 rows x 30 columns]"
      ]
     },
     "execution_count": 29,
=======
       "      <td>6.753438</td>\n",
       "      <td>1.207792</td>\n",
       "      <td>-0.103474</td>\n",
       "      <td>3</td>\n",
       "      <td>0.583291</td>\n",
       "      <td>-0.293462</td>\n",
       "      <td>1.0</td>\n",
       "      <td>-0.250083</td>\n",
       "      <td>-0.934330</td>\n",
       "      <td>-0.359550</td>\n",
       "      <td>...</td>\n",
       "      <td>0</td>\n",
       "      <td>0</td>\n",
       "      <td>0</td>\n",
       "      <td>0</td>\n",
       "      <td>0</td>\n",
       "      <td>1</td>\n",
       "      <td>0</td>\n",
       "      <td>1</td>\n",
       "      <td>1</td>\n",
       "      <td>0</td>\n",
       "    </tr>\n",
       "    <tr>\n",
       "      <th>1</th>\n",
       "      <td>7.141245</td>\n",
       "      <td>-0.785090</td>\n",
       "      <td>-0.103474</td>\n",
       "      <td>3</td>\n",
       "      <td>1.180982</td>\n",
       "      <td>-0.293462</td>\n",
       "      <td>0.0</td>\n",
       "      <td>3.816908</td>\n",
       "      <td>-0.629436</td>\n",
       "      <td>-0.359550</td>\n",
       "      <td>...</td>\n",
       "      <td>0</td>\n",
       "      <td>0</td>\n",
       "      <td>0</td>\n",
       "      <td>0</td>\n",
       "      <td>0</td>\n",
       "      <td>1</td>\n",
       "      <td>0</td>\n",
       "      <td>1</td>\n",
       "      <td>1</td>\n",
       "      <td>0</td>\n",
       "    </tr>\n",
       "    <tr>\n",
       "      <th>2</th>\n",
       "      <td>6.825460</td>\n",
       "      <td>1.235795</td>\n",
       "      <td>-0.103474</td>\n",
       "      <td>3</td>\n",
       "      <td>0.099864</td>\n",
       "      <td>-0.293462</td>\n",
       "      <td>1.0</td>\n",
       "      <td>-0.250083</td>\n",
       "      <td>-0.288137</td>\n",
       "      <td>-0.359550</td>\n",
       "      <td>...</td>\n",
       "      <td>0</td>\n",
       "      <td>0</td>\n",
       "      <td>0</td>\n",
       "      <td>0</td>\n",
       "      <td>0</td>\n",
       "      <td>1</td>\n",
       "      <td>0</td>\n",
       "      <td>1</td>\n",
       "      <td>1</td>\n",
       "      <td>0</td>\n",
       "    </tr>\n",
       "    <tr>\n",
       "      <th>3</th>\n",
       "      <td>6.869014</td>\n",
       "      <td>0.979101</td>\n",
       "      <td>-0.103474</td>\n",
       "      <td>3</td>\n",
       "      <td>-0.493432</td>\n",
       "      <td>-0.293462</td>\n",
       "      <td>1.0</td>\n",
       "      <td>-0.250083</td>\n",
       "      <td>-0.046952</td>\n",
       "      <td>3.875374</td>\n",
       "      <td>...</td>\n",
       "      <td>0</td>\n",
       "      <td>0</td>\n",
       "      <td>0</td>\n",
       "      <td>0</td>\n",
       "      <td>0</td>\n",
       "      <td>1</td>\n",
       "      <td>0</td>\n",
       "      <td>1</td>\n",
       "      <td>1</td>\n",
       "      <td>0</td>\n",
       "    </tr>\n",
       "    <tr>\n",
       "      <th>4</th>\n",
       "      <td>7.044033</td>\n",
       "      <td>1.672176</td>\n",
       "      <td>-0.103474</td>\n",
       "      <td>4</td>\n",
       "      <td>0.471224</td>\n",
       "      <td>-0.293462</td>\n",
       "      <td>1.0</td>\n",
       "      <td>-0.250083</td>\n",
       "      <td>-0.160718</td>\n",
       "      <td>-0.359550</td>\n",
       "      <td>...</td>\n",
       "      <td>0</td>\n",
       "      <td>0</td>\n",
       "      <td>0</td>\n",
       "      <td>0</td>\n",
       "      <td>0</td>\n",
       "      <td>1</td>\n",
       "      <td>0</td>\n",
       "      <td>1</td>\n",
       "      <td>1</td>\n",
       "      <td>0</td>\n",
       "    </tr>\n",
       "  </tbody>\n",
       "</table>\n",
       "<p>5 rows × 304 columns</p>\n",
       "</div>"
      ],
      "text/plain": [
       "   1stFlrSF  2ndFlrSF  3SsnPorch  BedroomAbvGr  BsmtFinSF1  BsmtFinSF2  \\\n",
       "0  6.753438  1.207792  -0.103474             3    0.583291   -0.293462   \n",
       "1  7.141245 -0.785090  -0.103474             3    1.180982   -0.293462   \n",
       "2  6.825460  1.235795  -0.103474             3    0.099864   -0.293462   \n",
       "3  6.869014  0.979101  -0.103474             3   -0.493432   -0.293462   \n",
       "4  7.044033  1.672176  -0.103474             4    0.471224   -0.293462   \n",
       "\n",
       "   BsmtFullBath  BsmtHalfBath  BsmtUnfSF  EnclosedPorch   ...    ConLD  ConLI  \\\n",
       "0           1.0     -0.250083  -0.934330      -0.359550   ...        0      0   \n",
       "1           0.0      3.816908  -0.629436      -0.359550   ...        0      0   \n",
       "2           1.0     -0.250083  -0.288137      -0.359550   ...        0      0   \n",
       "3           1.0     -0.250083  -0.046952       3.875374   ...        0      0   \n",
       "4           1.0     -0.250083  -0.160718      -0.359550   ...        0      0   \n",
       "\n",
       "   ConLw  New  Oth  WD  Grvl.1  Pave.1  AllPub  NoSeWa  \n",
       "0      0    0    0   1       0       1       1       0  \n",
       "1      0    0    0   1       0       1       1       0  \n",
       "2      0    0    0   1       0       1       1       0  \n",
       "3      0    0    0   1       0       1       1       0  \n",
       "4      0    0    0   1       0       1       1       0  \n",
       "\n",
       "[5 rows x 304 columns]"
      ]
     },
     "execution_count": 6,
     "metadata": {},
     "output_type": "execute_result"
    }
   ],
   "source": [
    "all_df.head()"
   ]
  },
  {
   "cell_type": "code",
   "execution_count": 13,
   "metadata": {
    "scrolled": true
   },
   "outputs": [
    {
     "data": {
      "text/plain": [
       "0      NaN\n",
       "1      NaN\n",
       "2      NaN\n",
       "3      NaN\n",
       "4      NaN\n",
       "5      NaN\n",
       "6      NaN\n",
       "7      NaN\n",
       "8      NaN\n",
       "9      NaN\n",
       "10     NaN\n",
       "11     NaN\n",
       "12     NaN\n",
       "13     NaN\n",
       "14     NaN\n",
       "15     NaN\n",
       "16     NaN\n",
       "17     NaN\n",
       "18     NaN\n",
       "19     NaN\n",
       "20     NaN\n",
       "21     NaN\n",
       "22     NaN\n",
       "23     NaN\n",
       "24     NaN\n",
       "25     NaN\n",
       "26     NaN\n",
       "27     NaN\n",
       "28     NaN\n",
       "29     NaN\n",
       "        ..\n",
       "1429   NaN\n",
       "1430   NaN\n",
       "1431   NaN\n",
       "1432   NaN\n",
       "1433   NaN\n",
       "1434   NaN\n",
       "1435   NaN\n",
       "1436   NaN\n",
       "1437   NaN\n",
       "1438   NaN\n",
       "1439   NaN\n",
       "1440   NaN\n",
       "1441   NaN\n",
       "1442   NaN\n",
       "1443   NaN\n",
       "1444   NaN\n",
       "1445   NaN\n",
       "1446   NaN\n",
       "1447   NaN\n",
       "1448   NaN\n",
       "1449   NaN\n",
       "1450   NaN\n",
       "1451   NaN\n",
       "1452   NaN\n",
       "1453   NaN\n",
       "1454   NaN\n",
       "1455   NaN\n",
       "1456   NaN\n",
       "1457   NaN\n",
       "1458   NaN\n",
       "Name: SalePrice, Length: 1459, dtype: float64"
      ]
     },
     "execution_count": 13,
     "metadata": {},
     "output_type": "execute_result"
    }
   ],
   "source": [
    "all_df['SalePrice'].iloc[train.shape[0]:]"
   ]
  },
  {
   "cell_type": "code",
   "execution_count": 6,
   "metadata": {},
   "outputs": [
    {
     "data": {
      "text/plain": [
       "1452"
      ]
     },
     "execution_count": 6,
     "metadata": {},
     "output_type": "execute_result"
    }
   ],
   "source": [
    "len(train)"
   ]
  },
  {
   "cell_type": "code",
   "execution_count": 7,
   "metadata": {},
   "outputs": [
    {
     "data": {
      "text/plain": [
       "1459"
      ]
     },
     "execution_count": 7,
     "metadata": {},
     "output_type": "execute_result"
    }
   ],
   "source": [
    "len(test)"
   ]
  },
  {
   "cell_type": "markdown",
   "metadata": {},
   "source": [
    "Variable 'IsRemod', si ha sido remodelada o no"
   ]
  },
  {
   "cell_type": "code",
   "execution_count": 9,
   "metadata": {
    "scrolled": true
   },
   "outputs": [
    {
     "name": "stderr",
     "output_type": "stream",
     "text": [
      "C:\\Users\\Rodrigo\\Anaconda3\\lib\\site-packages\\pandas\\core\\indexing.py:179: SettingWithCopyWarning: \n",
      "A value is trying to be set on a copy of a slice from a DataFrame\n",
      "\n",
      "See the caveats in the documentation: http://pandas.pydata.org/pandas-docs/stable/indexing.html#indexing-view-versus-copy\n",
      "  self._setitem_with_indexer(indexer, value)\n"
     ]
    }
   ],
   "source": [
    "all_df['IsRemod'] = 0\n",
    "for i in range(len(all_df)):\n",
    "    if all_df['YearBuilt'].iloc[i] != all_df['YearRemodAdd'].iloc[i]:\n",
    "        all_df['IsRemod'].iloc[i] = 1"
   ]
  },
  {
   "cell_type": "markdown",
   "metadata": {},
   "source": [
    "Variable 'RemodOld', años desde la reforma hasta el 2018"
   ]
  },
  {
   "cell_type": "code",
   "execution_count": 10,
   "metadata": {
    "collapsed": true
   },
   "outputs": [],
   "source": [
    "all_df['RemodOld'] = 2018 - all_df['YearRemodAdd']"
   ]
  },
  {
   "cell_type": "markdown",
   "metadata": {},
   "source": [
    "Variable 'RelOld', Antiguedad relativa en años"
   ]
  },
  {
   "cell_type": "code",
   "execution_count": 11,
   "metadata": {
    "collapsed": true
   },
   "outputs": [],
   "source": [
    "all_df['RelOld'] = all_df['YearBuilt'] - min(all_df['YearBuilt'])"
   ]
  },
  {
   "cell_type": "markdown",
   "metadata": {},
   "source": [
    "Variable 'RelRoomSize', Zona habitable (menos cuartos de baño) partido por numero de habitaciones"
   ]
  },
  {
   "cell_type": "code",
   "execution_count": 12,
   "metadata": {
    "collapsed": true
   },
   "outputs": [],
   "source": [
    "all_df['RelRoomSize'] = all_df['GrLivArea']/all_df['TotRmsAbvGrd']"
   ]
  },
  {
   "cell_type": "code",
   "execution_count": 13,
   "metadata": {},
   "outputs": [
    {
     "data": {
      "text/plain": [
       "(2911, 308)"
      ]
     },
     "execution_count": 13,
>>>>>>> 92865a6fd6f1e8c9816fd00faaf722525d70275d
     "metadata": {},
     "output_type": "execute_result"
    }
   ],
   "source": [
<<<<<<< HEAD
    "test.loc[:,column_list].head()"
   ]
=======
    "all_df.shape"
   ]
  },
  {
   "cell_type": "code",
   "execution_count": null,
   "metadata": {
    "collapsed": true
   },
   "outputs": [],
   "source": []
  },
  {
   "cell_type": "code",
   "execution_count": null,
   "metadata": {
    "collapsed": true
   },
   "outputs": [],
   "source": []
  },
  {
   "cell_type": "code",
   "execution_count": null,
   "metadata": {
    "collapsed": true
   },
   "outputs": [],
   "source": []
  },
  {
   "cell_type": "code",
   "execution_count": null,
   "metadata": {
    "collapsed": true
   },
   "outputs": [],
   "source": []
  },
  {
   "cell_type": "code",
   "execution_count": null,
   "metadata": {
    "collapsed": true
   },
   "outputs": [],
   "source": []
  },
  {
   "cell_type": "markdown",
   "metadata": {
    "collapsed": true
   },
   "source": [
    "para separar all_df en train / test: train = all_df.iloc[:train.shape[0],:]; test = all_df.iloc[train.shape[0]:,:]; "
   ]
  },
  {
   "cell_type": "code",
   "execution_count": 17,
   "metadata": {
    "collapsed": true
   },
   "outputs": [],
   "source": [
    "train = all_df.iloc[:train.shape[0],:]\n",
    "test = all_df.iloc[train.shape[0]:,:]"
   ]
  },
  {
   "cell_type": "code",
   "execution_count": 18,
   "metadata": {
    "collapsed": true
   },
   "outputs": [],
   "source": [
    "train.to_csv('data/numeric_train_ft_eng.csv', sep=',', index=False)\n",
    "test.to_csv('data/numeric_test_ft_eng.csv', sep=',', index=False)"
   ]
  },
  {
   "cell_type": "code",
   "execution_count": null,
   "metadata": {
    "collapsed": true
   },
   "outputs": [],
   "source": []
>>>>>>> 92865a6fd6f1e8c9816fd00faaf722525d70275d
  }
 ],
 "metadata": {
  "kernelspec": {
   "display_name": "Python 3",
   "language": "python",
   "name": "python3"
  },
  "language_info": {
   "codemirror_mode": {
    "name": "ipython",
    "version": 3
   },
   "file_extension": ".py",
   "mimetype": "text/x-python",
   "name": "python",
   "nbconvert_exporter": "python",
   "pygments_lexer": "ipython3",
<<<<<<< HEAD
   "version": "3.5.2"
=======
   "version": "3.5.3"
>>>>>>> 92865a6fd6f1e8c9816fd00faaf722525d70275d
  }
 },
 "nbformat": 4,
 "nbformat_minor": 2
}
